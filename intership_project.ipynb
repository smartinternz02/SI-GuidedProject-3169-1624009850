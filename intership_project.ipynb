{
 "cells": [
  {
   "cell_type": "code",
   "execution_count": 1,
   "metadata": {},
   "outputs": [],
   "source": [
    "from tensorflow.keras.models import Sequential\n",
    "from tensorflow.keras.layers import Dense\n",
    "from tensorflow.keras.layers import Convolution2D\n",
    "from tensorflow.keras.layers import MaxPooling2D\n",
    "from tensorflow.keras.layers import Flatten"
   ]
  },
  {
   "cell_type": "code",
   "execution_count": 2,
   "metadata": {},
   "outputs": [],
   "source": [
    "from keras.preprocessing.image import ImageDataGenerator\n",
    "train_datagen = ImageDataGenerator(rescale=1./255,shear_range=0.2,zoom_range = 0.2,horizontal_flip = True)\n",
    "test_datagen =  ImageDataGenerator(rescale = 1./255)"
   ]
  },
  {
   "cell_type": "code",
   "execution_count": 3,
   "metadata": {},
   "outputs": [
    {
     "name": "stdout",
     "output_type": "stream",
     "text": [
      "Found 39 images belonging to 2 classes.\n",
      "Found 149 images belonging to 2 classes.\n"
     ]
    }
   ],
   "source": [
    "x_train=train_datagen.flow_from_directory(r\"E:\\internship\\Gec-Python\\test_train_data\\train_data\",target_size=(64,64),batch_size=5,class_mode=\"binary\")\n",
    "x_test=test_datagen.flow_from_directory(r\"E:\\internship\\Gec-Python\\test_train_data\\test_data\",target_size=(64,64),batch_size=5,class_mode=\"binary\")"
   ]
  },
  {
   "cell_type": "code",
   "execution_count": 4,
   "metadata": {},
   "outputs": [],
   "source": [
    "model=Sequential()"
   ]
  },
  {
   "cell_type": "code",
   "execution_count": 5,
   "metadata": {},
   "outputs": [],
   "source": [
    "model.add(Convolution2D(32,(3,3),input_shape=(64,64,3),activation=\"relu\"))"
   ]
  },
  {
   "cell_type": "code",
   "execution_count": 6,
   "metadata": {},
   "outputs": [],
   "source": [
    "model.add(MaxPooling2D(2,2))"
   ]
  },
  {
   "cell_type": "code",
   "execution_count": 7,
   "metadata": {},
   "outputs": [],
   "source": [
    "model.add(Flatten())"
   ]
  },
  {
   "cell_type": "code",
   "execution_count": 8,
   "metadata": {},
   "outputs": [],
   "source": [
    "model.add(Dense(units=32,activation=\"relu\",kernel_initializer=\"random_uniform\"))"
   ]
  },
  {
   "cell_type": "code",
   "execution_count": 9,
   "metadata": {},
   "outputs": [],
   "source": [
    "\n",
    "model.add(Dense(units=1,activation=\"sigmoid\",kernel_initializer=\"random_uniform\"))"
   ]
  },
  {
   "cell_type": "code",
   "execution_count": 10,
   "metadata": {},
   "outputs": [],
   "source": [
    "model.compile(\"adam\",loss=\"binary_crossentropy\",metrics=[\"accuracy\"])"
   ]
  },
  {
   "cell_type": "code",
   "execution_count": 11,
   "metadata": {},
   "outputs": [
    {
     "name": "stderr",
     "output_type": "stream",
     "text": [
      "C:\\Users\\TAGORE\\Anaconda3\\lib\\site-packages\\tensorflow\\python\\keras\\engine\\training.py:1844: UserWarning: `Model.fit_generator` is deprecated and will be removed in a future version. Please use `Model.fit`, which supports generators.\n",
      "  warnings.warn('`Model.fit_generator` is deprecated and '\n"
     ]
    },
    {
     "name": "stdout",
     "output_type": "stream",
     "text": [
      "Epoch 1/50\n",
      "3/3 [==============================] - 2s 543ms/step - loss: 0.7196 - accuracy: 0.5083 - val_loss: 0.6900 - val_accuracy: 0.6286\n",
      "Epoch 2/50\n",
      "3/3 [==============================] - 0s 79ms/step - loss: 0.6816 - accuracy: 0.4917 - val_loss: 0.7406 - val_accuracy: 0.4286\n",
      "Epoch 3/50\n",
      "3/3 [==============================] - 0s 84ms/step - loss: 0.6117 - accuracy: 0.7083 - val_loss: 0.7615 - val_accuracy: 0.5714\n",
      "Epoch 4/50\n",
      "3/3 [==============================] - 0s 84ms/step - loss: 0.5321 - accuracy: 0.7321 - val_loss: 0.7608 - val_accuracy: 0.6286\n",
      "Epoch 5/50\n",
      "3/3 [==============================] - 0s 74ms/step - loss: 0.7273 - accuracy: 0.5246 - val_loss: 0.8055 - val_accuracy: 0.5143\n",
      "Epoch 6/50\n",
      "3/3 [==============================] - 0s 74ms/step - loss: 0.4416 - accuracy: 0.8417 - val_loss: 0.7883 - val_accuracy: 0.5143\n",
      "Epoch 7/50\n",
      "3/3 [==============================] - 0s 77ms/step - loss: 0.5654 - accuracy: 0.6667 - val_loss: 0.7122 - val_accuracy: 0.5714\n",
      "Epoch 8/50\n",
      "3/3 [==============================] - 0s 78ms/step - loss: 0.5468 - accuracy: 0.7417 - val_loss: 0.7148 - val_accuracy: 0.4571\n",
      "Epoch 9/50\n",
      "3/3 [==============================] - 0s 79ms/step - loss: 0.5702 - accuracy: 0.8286 - val_loss: 0.7014 - val_accuracy: 0.5429\n",
      "Epoch 10/50\n",
      "3/3 [==============================] - 0s 74ms/step - loss: 0.4594 - accuracy: 0.9000 - val_loss: 0.7465 - val_accuracy: 0.6286\n",
      "Epoch 11/50\n",
      "3/3 [==============================] - 0s 75ms/step - loss: 0.6747 - accuracy: 0.6500 - val_loss: 0.9860 - val_accuracy: 0.4857\n",
      "Epoch 12/50\n",
      "3/3 [==============================] - 0s 126ms/step - loss: 0.4013 - accuracy: 0.8286 - val_loss: 0.7374 - val_accuracy: 0.5714\n",
      "Epoch 13/50\n",
      "3/3 [==============================] - 0s 74ms/step - loss: 0.4461 - accuracy: 0.7667 - val_loss: 0.9033 - val_accuracy: 0.4857\n",
      "Epoch 14/50\n",
      "3/3 [==============================] - 0s 78ms/step - loss: 0.3351 - accuracy: 0.9365 - val_loss: 0.9742 - val_accuracy: 0.5143\n",
      "Epoch 15/50\n",
      "3/3 [==============================] - 0s 76ms/step - loss: 0.5074 - accuracy: 0.6659 - val_loss: 1.0261 - val_accuracy: 0.5143\n",
      "Epoch 16/50\n",
      "3/3 [==============================] - 0s 75ms/step - loss: 0.5556 - accuracy: 0.7083 - val_loss: 0.9393 - val_accuracy: 0.5143\n",
      "Epoch 17/50\n",
      "3/3 [==============================] - 0s 73ms/step - loss: 0.5253 - accuracy: 0.6250 - val_loss: 0.6122 - val_accuracy: 0.6000\n",
      "Epoch 18/50\n",
      "3/3 [==============================] - 0s 76ms/step - loss: 0.5062 - accuracy: 0.9083 - val_loss: 0.6948 - val_accuracy: 0.5714\n",
      "Epoch 19/50\n",
      "3/3 [==============================] - 0s 75ms/step - loss: 0.5155 - accuracy: 0.8016 - val_loss: 0.6300 - val_accuracy: 0.6857\n",
      "Epoch 20/50\n",
      "3/3 [==============================] - 0s 73ms/step - loss: 0.5162 - accuracy: 0.9036 - val_loss: 0.6291 - val_accuracy: 0.6286\n",
      "Epoch 21/50\n",
      "3/3 [==============================] - 0s 77ms/step - loss: 0.4053 - accuracy: 0.7929 - val_loss: 0.6397 - val_accuracy: 0.6571\n",
      "Epoch 22/50\n",
      "3/3 [==============================] - 0s 76ms/step - loss: 0.4344 - accuracy: 0.7571 - val_loss: 0.5543 - val_accuracy: 0.6286\n",
      "Epoch 23/50\n",
      "3/3 [==============================] - 0s 82ms/step - loss: 0.4768 - accuracy: 0.8740 - val_loss: 0.6004 - val_accuracy: 0.6286\n",
      "Epoch 24/50\n",
      "3/3 [==============================] - 0s 79ms/step - loss: 0.5511 - accuracy: 0.7500 - val_loss: 0.6214 - val_accuracy: 0.6286\n",
      "Epoch 25/50\n",
      "3/3 [==============================] - 0s 78ms/step - loss: 0.4436 - accuracy: 0.8508 - val_loss: 0.5708 - val_accuracy: 0.6857\n",
      "Epoch 26/50\n",
      "3/3 [==============================] - 0s 84ms/step - loss: 0.4143 - accuracy: 0.7500 - val_loss: 0.5988 - val_accuracy: 0.6286\n",
      "Epoch 27/50\n",
      "3/3 [==============================] - 0s 82ms/step - loss: 0.4124 - accuracy: 0.7667 - val_loss: 0.7399 - val_accuracy: 0.6286\n",
      "Epoch 28/50\n",
      "3/3 [==============================] - 0s 77ms/step - loss: 0.3443 - accuracy: 0.9083 - val_loss: 0.6336 - val_accuracy: 0.7143\n",
      "Epoch 29/50\n",
      "3/3 [==============================] - 0s 79ms/step - loss: 0.4578 - accuracy: 0.7750 - val_loss: 0.5562 - val_accuracy: 0.7714\n",
      "Epoch 30/50\n",
      "3/3 [==============================] - 0s 83ms/step - loss: 0.3339 - accuracy: 0.8917 - val_loss: 0.6997 - val_accuracy: 0.6571\n",
      "Epoch 31/50\n",
      "3/3 [==============================] - 0s 80ms/step - loss: 0.3357 - accuracy: 0.8583 - val_loss: 0.9873 - val_accuracy: 0.5429\n",
      "Epoch 32/50\n",
      "3/3 [==============================] - 0s 84ms/step - loss: 0.4433 - accuracy: 0.7833 - val_loss: 0.7596 - val_accuracy: 0.6571\n",
      "Epoch 33/50\n",
      "3/3 [==============================] - 0s 76ms/step - loss: 0.4465 - accuracy: 0.7786 - val_loss: 0.5533 - val_accuracy: 0.8286\n",
      "Epoch 34/50\n",
      "3/3 [==============================] - 0s 80ms/step - loss: 0.2359 - accuracy: 1.0000 - val_loss: 0.8063 - val_accuracy: 0.6857\n",
      "Epoch 35/50\n",
      "3/3 [==============================] - 0s 77ms/step - loss: 0.1434 - accuracy: 0.8917 - val_loss: 2.0901 - val_accuracy: 0.4571\n",
      "Epoch 36/50\n",
      "3/3 [==============================] - 0s 76ms/step - loss: 0.2384 - accuracy: 0.9417 - val_loss: 1.8812 - val_accuracy: 0.5143\n",
      "Epoch 37/50\n",
      "3/3 [==============================] - 0s 78ms/step - loss: 0.6400 - accuracy: 0.7667 - val_loss: 1.1707 - val_accuracy: 0.5143\n",
      "Epoch 38/50\n",
      "3/3 [==============================] - 0s 87ms/step - loss: 0.3688 - accuracy: 0.8740 - val_loss: 0.5899 - val_accuracy: 0.7429\n",
      "Epoch 39/50\n",
      "3/3 [==============================] - 0s 85ms/step - loss: 0.3241 - accuracy: 0.8373 - val_loss: 0.7820 - val_accuracy: 0.5429\n",
      "Epoch 40/50\n",
      "3/3 [==============================] - 0s 80ms/step - loss: 0.3679 - accuracy: 0.8917 - val_loss: 0.7430 - val_accuracy: 0.6857\n",
      "Epoch 41/50\n",
      "3/3 [==============================] - 0s 80ms/step - loss: 0.3761 - accuracy: 0.8730 - val_loss: 1.1717 - val_accuracy: 0.5429\n",
      "Epoch 42/50\n",
      "3/3 [==============================] - 0s 83ms/step - loss: 0.2940 - accuracy: 0.8500 - val_loss: 0.8185 - val_accuracy: 0.6286\n",
      "Epoch 43/50\n",
      "3/3 [==============================] - 0s 106ms/step - loss: 0.1709 - accuracy: 0.9667 - val_loss: 0.5385 - val_accuracy: 0.6857\n",
      "Epoch 44/50\n",
      "3/3 [==============================] - 0s 84ms/step - loss: 0.2671 - accuracy: 0.9417 - val_loss: 0.5706 - val_accuracy: 0.7429\n",
      "Epoch 45/50\n",
      "3/3 [==============================] - 0s 77ms/step - loss: 0.2349 - accuracy: 0.8917 - val_loss: 0.7787 - val_accuracy: 0.6571\n",
      "Epoch 46/50\n",
      "3/3 [==============================] - 0s 72ms/step - loss: 0.2665 - accuracy: 0.9393 - val_loss: 0.8517 - val_accuracy: 0.6286\n",
      "Epoch 47/50\n",
      "3/3 [==============================] - 0s 82ms/step - loss: 0.2268 - accuracy: 1.0000 - val_loss: 0.7380 - val_accuracy: 0.7429\n",
      "Epoch 48/50\n",
      "3/3 [==============================] - 0s 81ms/step - loss: 0.2591 - accuracy: 0.8333 - val_loss: 0.6767 - val_accuracy: 0.6571\n",
      "Epoch 49/50\n",
      "3/3 [==============================] - 0s 80ms/step - loss: 0.2040 - accuracy: 1.0000 - val_loss: 0.7312 - val_accuracy: 0.6857\n",
      "Epoch 50/50\n",
      "3/3 [==============================] - 0s 74ms/step - loss: 0.1498 - accuracy: 1.0000 - val_loss: 0.8208 - val_accuracy: 0.7429\n"
     ]
    },
    {
     "data": {
      "text/plain": [
       "<tensorflow.python.keras.callbacks.History at 0x1d5373c94e0>"
      ]
     },
     "execution_count": 11,
     "metadata": {},
     "output_type": "execute_result"
    }
   ],
   "source": [
    "model.fit_generator(x_train,steps_per_epoch=3,epochs=50,validation_data=x_test,validation_steps=7)"
   ]
  },
  {
   "cell_type": "code",
   "execution_count": 14,
   "metadata": {},
   "outputs": [],
   "source": [
    "\n",
    "model.save(\"helmet.h5\")"
   ]
  },
  {
   "cell_type": "code",
   "execution_count": 24,
   "metadata": {},
   "outputs": [
    {
     "ename": "error",
     "evalue": "OpenCV(4.5.1) C:\\Users\\appveyor\\AppData\\Local\\Temp\\1\\pip-req-build-oduouqig\\opencv\\modules\\imgproc\\src\\resize.cpp:4051: error: (-215:Assertion failed) !ssize.empty() in function 'cv::resize'\n",
     "output_type": "error",
     "traceback": [
      "\u001b[1;31m---------------------------------------------------------------------------\u001b[0m",
      "\u001b[1;31merror\u001b[0m                                     Traceback (most recent call last)",
      "\u001b[1;32m<ipython-input-24-ff21ab33e128>\u001b[0m in \u001b[0;36m<module>\u001b[1;34m\u001b[0m\n\u001b[0;32m     13\u001b[0m \u001b[1;32mwhile\u001b[0m \u001b[1;32mTrue\u001b[0m\u001b[1;33m:\u001b[0m\u001b[1;33m\u001b[0m\u001b[1;33m\u001b[0m\u001b[0m\n\u001b[0;32m     14\u001b[0m     \u001b[0msuccess\u001b[0m\u001b[1;33m,\u001b[0m\u001b[0mframe\u001b[0m \u001b[1;33m=\u001b[0m \u001b[0mvideo\u001b[0m\u001b[1;33m.\u001b[0m\u001b[0mread\u001b[0m\u001b[1;33m(\u001b[0m\u001b[1;33m)\u001b[0m\u001b[1;33m\u001b[0m\u001b[1;33m\u001b[0m\u001b[0m\n\u001b[1;32m---> 15\u001b[1;33m     \u001b[0mframe\u001b[0m \u001b[1;33m=\u001b[0m \u001b[0mcv2\u001b[0m\u001b[1;33m.\u001b[0m\u001b[0mresize\u001b[0m\u001b[1;33m(\u001b[0m\u001b[0mframe\u001b[0m\u001b[1;33m,\u001b[0m \u001b[1;33m(\u001b[0m\u001b[1;36m854\u001b[0m\u001b[1;33m,\u001b[0m\u001b[1;36m480\u001b[0m\u001b[1;33m)\u001b[0m\u001b[1;33m)\u001b[0m\u001b[1;33m\u001b[0m\u001b[1;33m\u001b[0m\u001b[0m\n\u001b[0m\u001b[0;32m     16\u001b[0m     \u001b[0mcv2\u001b[0m\u001b[1;33m.\u001b[0m\u001b[0mimwrite\u001b[0m\u001b[1;33m(\u001b[0m\u001b[1;34m'image.jpg'\u001b[0m\u001b[1;33m,\u001b[0m\u001b[0mframe\u001b[0m\u001b[1;33m)\u001b[0m\u001b[1;33m\u001b[0m\u001b[1;33m\u001b[0m\u001b[0m\n\u001b[0;32m     17\u001b[0m     \u001b[0mimg\u001b[0m \u001b[1;33m=\u001b[0m \u001b[0mimage\u001b[0m\u001b[1;33m.\u001b[0m\u001b[0mload_img\u001b[0m\u001b[1;33m(\u001b[0m\u001b[1;34m'image.jpg'\u001b[0m\u001b[1;33m,\u001b[0m\u001b[0mtarget_size\u001b[0m\u001b[1;33m=\u001b[0m\u001b[1;33m(\u001b[0m\u001b[1;36m64\u001b[0m\u001b[1;33m,\u001b[0m\u001b[1;36m64\u001b[0m\u001b[1;33m)\u001b[0m\u001b[1;33m)\u001b[0m\u001b[1;33m\u001b[0m\u001b[1;33m\u001b[0m\u001b[0m\n",
      "\u001b[1;31merror\u001b[0m: OpenCV(4.5.1) C:\\Users\\appveyor\\AppData\\Local\\Temp\\1\\pip-req-build-oduouqig\\opencv\\modules\\imgproc\\src\\resize.cpp:4051: error: (-215:Assertion failed) !ssize.empty() in function 'cv::resize'\n"
     ]
    }
   ],
   "source": [
    "import time\n",
    "import cv2\n",
    "import numpy as np\n",
    "from tensorflow.keras.models import load_model\n",
    "from tensorflow.keras.preprocessing import image\n",
    "import pyttsx3\n",
    "engine = pyttsx3.init()\n",
    "model = load_model(r\"E:\\internship\\Gec-Python\\helmet.h5\")\n",
    "complie=False\n",
    "video = cv2.VideoCapture('E:\\internship\\Gec-Python\\sample-video-2.mkv')\n",
    "Index = [\"without_helmet\",\"with_helmet\"]\n",
    "count = 0\n",
    "while True:\n",
    "    success,frame = video.read()\n",
    "    frame = cv2.resize(frame, (854,480))\n",
    "    cv2.imwrite('image.jpg',frame)\n",
    "    img = image.load_img('image.jpg',target_size=(64,64))\n",
    "    x = image.img_to_array(img)\n",
    "    x = np.expand_dims(x,axis = 0)\n",
    "    pred = model.predict(x)\n",
    "    pred_array = pred.astype(int)\n",
    "    p = pred_array[0]\n",
    "    if pred_array[0] == 0:\n",
    "          cv2.putText(frame,''+'Without Helmet',(100,100),cv2.FONT_HERSHEY_SIMPLEX,1,(255,255,0),4)\n",
    "      #engine.say('Without Helmet not safe to go')\n",
    "      #engine.runAndWait()\n",
    "    else:  \n",
    "        cv2.putText(frame,''+'With Helmet',(100,100),cv2.FONT_HERSHEY_SIMPLEX,1,(255,255,0),4)\n",
    "        #engine.say('With Helmet safe to go')\n",
    "        #engine.runAndWait()\n",
    "      \n",
    "    \n",
    "    cv2.imshow('OutputWindow',frame)\n",
    "    #count = count + 1\n",
    "    #time.sleep(1)\n",
    "    \n",
    "    if cv2.waitKey(1) & 0xFF == ord('q'):\n",
    "        break\n",
    "\n",
    "video.release()\n",
    "cv2.destroyAllWindows()"
   ]
  },
  {
   "cell_type": "code",
   "execution_count": null,
   "metadata": {},
   "outputs": [],
   "source": []
  },
  {
   "cell_type": "code",
   "execution_count": null,
   "metadata": {},
   "outputs": [],
   "source": []
  },
  {
   "cell_type": "code",
   "execution_count": null,
   "metadata": {},
   "outputs": [],
   "source": []
  },
  {
   "cell_type": "code",
   "execution_count": null,
   "metadata": {},
   "outputs": [],
   "source": []
  },
  {
   "cell_type": "code",
   "execution_count": null,
   "metadata": {},
   "outputs": [],
   "source": []
  },
  {
   "cell_type": "code",
   "execution_count": null,
   "metadata": {},
   "outputs": [],
   "source": []
  },
  {
   "cell_type": "code",
   "execution_count": null,
   "metadata": {},
   "outputs": [],
   "source": []
  },
  {
   "cell_type": "code",
   "execution_count": null,
   "metadata": {},
   "outputs": [],
   "source": []
  }
 ],
 "metadata": {
  "kernelspec": {
   "display_name": "Python 3",
   "language": "python",
   "name": "python3"
  },
  "language_info": {
   "codemirror_mode": {
    "name": "ipython",
    "version": 3
   },
   "file_extension": ".py",
   "mimetype": "text/x-python",
   "name": "python",
   "nbconvert_exporter": "python",
   "pygments_lexer": "ipython3",
   "version": "3.7.3"
  }
 },
 "nbformat": 4,
 "nbformat_minor": 2
}
